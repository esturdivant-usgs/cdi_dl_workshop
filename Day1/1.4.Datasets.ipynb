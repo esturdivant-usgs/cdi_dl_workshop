{
 "cells": [
  {
   "cell_type": "markdown",
   "metadata": {},
   "source": [
    "# Introduction to the Data Sets"
   ]
  },
  {
   "cell_type": "markdown",
   "metadata": {},
   "source": [
    "> Written by Dr Daniel Buscombe, Northern Arizona University\n",
    "\n",
    "> Part of a series of notebooks for image recognition and classification using deep convolutional neural networks"
   ]
  },
  {
   "cell_type": "markdown",
   "metadata": {},
   "source": [
    "The data sets provided are hosting within an Amazon Web Services S3 bucket"
   ]
  },
  {
   "cell_type": "code",
   "execution_count": 1,
   "metadata": {},
   "outputs": [
    {
     "data": {
      "text/plain": [
       "['esipfed/cdi-workshop/fully_conv_semseg',\n",
       " 'esipfed/cdi-workshop/imrecog_data',\n",
       " 'esipfed/cdi-workshop/semseg_data']"
      ]
     },
     "execution_count": 1,
     "metadata": {},
     "output_type": "execute_result"
    }
   ],
   "source": [
    "import s3fs\n",
    "fs = s3fs.S3FileSystem(anon=True)\n",
    "fs.ls('esipfed/cdi-workshop')"
   ]
  },
  {
   "cell_type": "markdown",
   "metadata": {},
   "source": [
    "We're going to use this root file structure a lot, so let's define a variable we can call repeatedly"
   ]
  },
  {
   "cell_type": "code",
   "execution_count": 2,
   "metadata": {},
   "outputs": [],
   "source": [
    "root = 'esipfed/cdi-workshop'"
   ]
  },
  {
   "cell_type": "markdown",
   "metadata": {},
   "source": [
    "## Looking at file structure"
   ]
  },
  {
   "cell_type": "markdown",
   "metadata": {},
   "source": [
    "There are three major subdirectories:\n",
    "* 'imrecog_data': contains example data sets for image recognition\n",
    "* 'semseg_data': contains example data sets for semantic segmentation\n",
    "* 'fully_conv_semseg': contains example data sets for fully convolutional semantic segmentation"
   ]
  },
  {
   "cell_type": "code",
   "execution_count": 3,
   "metadata": {},
   "outputs": [
    {
     "data": {
      "text/plain": [
       "['esipfed/cdi-workshop/imrecog_data/EuroSAT/AnnualCrop',\n",
       " 'esipfed/cdi-workshop/imrecog_data/EuroSAT/Forest',\n",
       " 'esipfed/cdi-workshop/imrecog_data/EuroSAT/HerbaceousVegetation',\n",
       " 'esipfed/cdi-workshop/imrecog_data/EuroSAT/Highway',\n",
       " 'esipfed/cdi-workshop/imrecog_data/EuroSAT/Industrial',\n",
       " 'esipfed/cdi-workshop/imrecog_data/EuroSAT/Pasture',\n",
       " 'esipfed/cdi-workshop/imrecog_data/EuroSAT/PermanentCrop',\n",
       " 'esipfed/cdi-workshop/imrecog_data/EuroSAT/Residential',\n",
       " 'esipfed/cdi-workshop/imrecog_data/EuroSAT/River',\n",
       " 'esipfed/cdi-workshop/imrecog_data/EuroSAT/SeaLake']"
      ]
     },
     "execution_count": 3,
     "metadata": {},
     "output_type": "execute_result"
    }
   ],
   "source": [
    "fs.ls(root+'/imrecog_data/EuroSAT')"
   ]
  },
  {
   "cell_type": "code",
   "execution_count": 4,
   "metadata": {},
   "outputs": [
    {
     "data": {
      "text/plain": [
       "16"
      ]
     },
     "execution_count": 4,
     "metadata": {},
     "output_type": "execute_result"
    }
   ],
   "source": [
    "len(fs.ls(root+'/semseg_data/gc/train'))"
   ]
  },
  {
   "cell_type": "code",
   "execution_count": 5,
   "metadata": {},
   "outputs": [
    {
     "data": {
      "text/plain": [
       "['esipfed/cdi-workshop/imrecog_data/NWPU-RESISC45/test/airplane',\n",
       " 'esipfed/cdi-workshop/imrecog_data/NWPU-RESISC45/test/airport',\n",
       " 'esipfed/cdi-workshop/imrecog_data/NWPU-RESISC45/test/baseball_diamond',\n",
       " 'esipfed/cdi-workshop/imrecog_data/NWPU-RESISC45/test/basketball_court',\n",
       " 'esipfed/cdi-workshop/imrecog_data/NWPU-RESISC45/test/beach',\n",
       " 'esipfed/cdi-workshop/imrecog_data/NWPU-RESISC45/test/bridge',\n",
       " 'esipfed/cdi-workshop/imrecog_data/NWPU-RESISC45/test/chaparral',\n",
       " 'esipfed/cdi-workshop/imrecog_data/NWPU-RESISC45/test/church',\n",
       " 'esipfed/cdi-workshop/imrecog_data/NWPU-RESISC45/test/circular_farmland',\n",
       " 'esipfed/cdi-workshop/imrecog_data/NWPU-RESISC45/test/cloud',\n",
       " 'esipfed/cdi-workshop/imrecog_data/NWPU-RESISC45/test/commercial_area',\n",
       " 'esipfed/cdi-workshop/imrecog_data/NWPU-RESISC45/test/dense_residential',\n",
       " 'esipfed/cdi-workshop/imrecog_data/NWPU-RESISC45/test/desert',\n",
       " 'esipfed/cdi-workshop/imrecog_data/NWPU-RESISC45/test/forest',\n",
       " 'esipfed/cdi-workshop/imrecog_data/NWPU-RESISC45/test/freeway',\n",
       " 'esipfed/cdi-workshop/imrecog_data/NWPU-RESISC45/test/golf_course',\n",
       " 'esipfed/cdi-workshop/imrecog_data/NWPU-RESISC45/test/ground_track_field',\n",
       " 'esipfed/cdi-workshop/imrecog_data/NWPU-RESISC45/test/harbor',\n",
       " 'esipfed/cdi-workshop/imrecog_data/NWPU-RESISC45/test/industrial_area',\n",
       " 'esipfed/cdi-workshop/imrecog_data/NWPU-RESISC45/test/intersection',\n",
       " 'esipfed/cdi-workshop/imrecog_data/NWPU-RESISC45/test/island',\n",
       " 'esipfed/cdi-workshop/imrecog_data/NWPU-RESISC45/test/lake',\n",
       " 'esipfed/cdi-workshop/imrecog_data/NWPU-RESISC45/test/meadow',\n",
       " 'esipfed/cdi-workshop/imrecog_data/NWPU-RESISC45/test/medium_residential',\n",
       " 'esipfed/cdi-workshop/imrecog_data/NWPU-RESISC45/test/mobile_home_park',\n",
       " 'esipfed/cdi-workshop/imrecog_data/NWPU-RESISC45/test/mountain',\n",
       " 'esipfed/cdi-workshop/imrecog_data/NWPU-RESISC45/test/overpass',\n",
       " 'esipfed/cdi-workshop/imrecog_data/NWPU-RESISC45/test/palace',\n",
       " 'esipfed/cdi-workshop/imrecog_data/NWPU-RESISC45/test/parking_lot',\n",
       " 'esipfed/cdi-workshop/imrecog_data/NWPU-RESISC45/test/railway',\n",
       " 'esipfed/cdi-workshop/imrecog_data/NWPU-RESISC45/test/railway_station',\n",
       " 'esipfed/cdi-workshop/imrecog_data/NWPU-RESISC45/test/rectangular_farmland',\n",
       " 'esipfed/cdi-workshop/imrecog_data/NWPU-RESISC45/test/river',\n",
       " 'esipfed/cdi-workshop/imrecog_data/NWPU-RESISC45/test/roundabout',\n",
       " 'esipfed/cdi-workshop/imrecog_data/NWPU-RESISC45/test/runway',\n",
       " 'esipfed/cdi-workshop/imrecog_data/NWPU-RESISC45/test/sea_ice',\n",
       " 'esipfed/cdi-workshop/imrecog_data/NWPU-RESISC45/test/ship',\n",
       " 'esipfed/cdi-workshop/imrecog_data/NWPU-RESISC45/test/snowberg',\n",
       " 'esipfed/cdi-workshop/imrecog_data/NWPU-RESISC45/test/sparse_residential',\n",
       " 'esipfed/cdi-workshop/imrecog_data/NWPU-RESISC45/test/stadium',\n",
       " 'esipfed/cdi-workshop/imrecog_data/NWPU-RESISC45/test/storage_tank',\n",
       " 'esipfed/cdi-workshop/imrecog_data/NWPU-RESISC45/test/tennis_court',\n",
       " 'esipfed/cdi-workshop/imrecog_data/NWPU-RESISC45/test/terrace',\n",
       " 'esipfed/cdi-workshop/imrecog_data/NWPU-RESISC45/test/thermal_power_station',\n",
       " 'esipfed/cdi-workshop/imrecog_data/NWPU-RESISC45/test/wetland']"
      ]
     },
     "execution_count": 5,
     "metadata": {},
     "output_type": "execute_result"
    }
   ],
   "source": [
    "fs.ls(root+'/imrecog_data/NWPU-RESISC45/test/')"
   ]
  },
  {
   "cell_type": "markdown",
   "metadata": {},
   "source": [
    "## Reading and displaying imagery"
   ]
  },
  {
   "cell_type": "code",
   "execution_count": null,
   "metadata": {},
   "outputs": [],
   "source": [
    "from imageio import imread\n",
    "import matplotlib.pyplot as plt"
   ]
  },
  {
   "cell_type": "code",
   "execution_count": null,
   "metadata": {},
   "outputs": [],
   "source": [
    "with fs.open(root+'/imrecog_data/NWPU-RESISC45/test/airplane/airplane_700.jpg', 'rb') as f:\n",
    "    image = imread(f, 'jpg')\n",
    "    plt.figure(0, figsize=(10,10))\n",
    "    plt.imshow(image);"
   ]
  },
  {
   "cell_type": "code",
   "execution_count": null,
   "metadata": {},
   "outputs": [],
   "source": [
    "fs.ls(root+'/imrecog_data/NWPU-RESISC45/test')"
   ]
  },
  {
   "cell_type": "code",
   "execution_count": null,
   "metadata": {},
   "outputs": [],
   "source": [
    "names = [f for f in fs.ls(root+'/imrecog_data/NWPU-RESISC45/test/baseball_diamond') if f.endswith('.jpg')]\n",
    "names = names[:10]"
   ]
  },
  {
   "cell_type": "code",
   "execution_count": null,
   "metadata": {},
   "outputs": [],
   "source": [
    "fig, ax = plt.subplots(3, 3)\n",
    "fig.set_figheight(15)\n",
    "fig.set_figwidth(15)\n",
    "for i, axi in enumerate(ax.flat):\n",
    "    with fs.open(names[i], 'rb') as f:\n",
    "        image = imread(f, 'jpg')\n",
    "    axi.imshow(image)\n",
    "    axi.set(xticks=[], yticks=[])"
   ]
  },
  {
   "cell_type": "markdown",
   "metadata": {},
   "source": [
    "## Read Labels"
   ]
  },
  {
   "cell_type": "markdown",
   "metadata": {},
   "source": [
    "'Labels' files are text files that contain class labels. One label per row"
   ]
  },
  {
   "cell_type": "code",
   "execution_count": null,
   "metadata": {},
   "outputs": [],
   "source": [
    "fs.ls(root+'/semseg_data/gc/labels')"
   ]
  },
  {
   "cell_type": "code",
   "execution_count": null,
   "metadata": {},
   "outputs": [],
   "source": [
    "with fs.open(root+'/semseg_data/gc/labels/labels.txt', 'rb') as f:\n",
    "      labels = f.readlines()\n",
    "\n",
    "labels = [x.strip() for x in labels] # get rid of white space, etc.\n",
    "print(labels)\n",
    "print(labels[0].decode()) # original was read in with binary ('rb') so it must be decoded into ascii"
   ]
  },
  {
   "cell_type": "markdown",
   "metadata": {},
   "source": [
    "## Read binary data files"
   ]
  },
  {
   "cell_type": "markdown",
   "metadata": {},
   "source": [
    "We're using matlab's .mat format to store data from semantic segmentations. Sounds a bit weird, I know, but it is a fairly portable and space efficient format. And it helps matlab users out"
   ]
  },
  {
   "cell_type": "code",
   "execution_count": null,
   "metadata": {},
   "outputs": [],
   "source": [
    "from scipy.io import loadmat # matlab was Dan's choice for binary (Python binaries are no good)"
   ]
  },
  {
   "cell_type": "code",
   "execution_count": null,
   "metadata": {},
   "outputs": [],
   "source": [
    "with fs.open(root+'/semseg_data/ontario/test/A2014862_geotag_mres.mat') as f:\n",
    "    dat = loadmat(f)"
   ]
  },
  {
   "cell_type": "code",
   "execution_count": null,
   "metadata": {},
   "outputs": [],
   "source": [
    "dat.keys()"
   ]
  },
  {
   "cell_type": "code",
   "execution_count": null,
   "metadata": {},
   "outputs": [],
   "source": []
  }
 ],
 "metadata": {
  "kernelspec": {
   "display_name": "Python [default]",
   "language": "python",
   "name": "python3"
  },
  "language_info": {
   "codemirror_mode": {
    "name": "ipython",
    "version": 3
   },
   "file_extension": ".py",
   "mimetype": "text/x-python",
   "name": "python",
   "nbconvert_exporter": "python",
   "pygments_lexer": "ipython3",
   "version": "3.6.5"
  }
 },
 "nbformat": 4,
 "nbformat_minor": 2
}
